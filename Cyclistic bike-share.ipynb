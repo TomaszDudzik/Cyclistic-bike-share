{
 "cells": [
  {
   "cell_type": "markdown",
   "metadata": {},
   "source": [
    "  ## Scenario\n",
    "  \n",
    "You are a junior data analyst working in the marketing analyst team at Cyclistic, a bike-share company in Chicago. The director of marketing believes the company’s future success depends on maximizing the number of annual memberships. Therefore, your team wants to understand how casual riders and annual members use Cyclistic bikes differently. From these insights, your team will design a new marketing strategy to convert casual riders into annual members. But first, Cyclistic executives must approve your recommendations, so they must be backed up with compelling data insights and professional data visualizations."
   ]
  },
  {
   "cell_type": "markdown",
   "metadata": {},
   "source": [
    "## Ask\n",
    "\n",
    "The purpose of the analysis is to answer the question:\n",
    "How do annual members and casual riders use Cyclistic bikes differently?\n",
    "\n",
    "The insight will help create a marketing strategy that will impact the financial results of the company. \n",
    "\n",
    "Our main stakeholders are the director of marketing - Lily Moreno, and the executive team who will make the decision about the project."
   ]
  },
  {
   "cell_type": "markdown",
   "metadata": {},
   "source": [
    "## Data structure\n",
    "\n",
    "Data has been download from \"https://divvy-tripdata.s3.amazonaws.com/index.html\". This is public data that can be used to explore how different customer types are using Cyclistic bikes. But note that data-privacy issues prohibit you from using riders’ personally identifiable information. This means that you won’t be able to connect pass purchases to credit card numbers to determine if casual riders live in the Cyclistic service area or if they have purchased multiple single passes. \n",
    "Data are from the last 12 months. There are 12 files. Each of them represents a separate month.\n",
    "\n",
    "Metadata for Trips Table:\n",
    "\n",
    "Variables:\n",
    "\n",
    "* ride_id: ID attached to each trip taken\n",
    "* started_at: day and time trip started, in CST\n",
    "* ended_at: day and time trip ended, in CST\n",
    "* start_station_name: name of station where trip originated\n",
    "* end_station_name: name of station where trip terminated \n",
    "* start_station_id: ID of station where trip originated\n",
    "* end_station_id: ID of station where trip terminated\n",
    "* member_casual: \"Casual\" is a rider who purchased a 24-Hour Pass; \"Member\" is a rider who purchased an Annual Membership\n",
    "\n",
    "\n",
    "Notes:\n",
    "\n",
    "* First row contains column names\n",
    "* Trips that did not include a start or end date were removed from original table.\n",
    "* Gender and birthday are only available for Subscribers"
   ]
  },
  {
   "cell_type": "markdown",
   "metadata": {},
   "source": [
    "## Data preparation\n",
    "\n",
    "Steps to be taken before analysis phase: \n",
    "\n",
    "1. Imports\n",
    "2. Ensured data’s integrity - check the structure of the files. \n",
    "3. Union files into one data frame. \n",
    "4. Upload the dataset\n",
    "5. Change type for \"started_at\"; \"ended_at\"\n",
    "6. Column to add:\n",
    "    * ride_length: calculate the length of each ride by subtracting the column\n",
    "    * started_at: from the column “ended_at” and change the format\n",
    "    * year: show year from 'started_at'\n",
    "    * month: show month from 'started_at'\n",
    "    * day: show day from 'started_at'"
   ]
  },
  {
   "cell_type": "markdown",
   "metadata": {},
   "source": [
    "### 1. Imports"
   ]
  },
  {
   "cell_type": "code",
   "execution_count": 1,
   "metadata": {},
   "outputs": [],
   "source": [
    "import os\n",
    "import glob\n",
    "import pandas as pd \n",
    "import numpy as np\n",
    "from datetime import *\n",
    "from matplotlib import pyplot\n",
    "import matplotlib.pyplot as plt\n",
    "import seaborn as sns"
   ]
  },
  {
   "cell_type": "markdown",
   "metadata": {},
   "source": [
    "### 2. Ensured data’s integrity - check the structure of the files"
   ]
  },
  {
   "cell_type": "code",
   "execution_count": 2,
   "metadata": {},
   "outputs": [],
   "source": [
    "# import random two files\n",
    "file1Path = \"E:\\\\DataAnalysis\\\\001 Cyclistic bike-share - R markdown\\\\Data\\\\Last24MonthsCSV\\\\202011-divvy-tripdata.csv\"\n",
    "file2Path = \"E:\\\\DataAnalysis\\\\001 Cyclistic bike-share - R markdown\\\\Data\\\\Last24MonthsCSV\\\\202109-divvy-tripdata.csv\"\n",
    "file1 = pd.read_csv(file1Path)\n",
    "file2 = pd.read_csv(file2Path)"
   ]
  },
  {
   "cell_type": "code",
   "execution_count": 3,
   "metadata": {},
   "outputs": [
    {
     "name": "stdout",
     "output_type": "stream",
     "text": [
      "<class 'pandas.core.frame.DataFrame'>\n",
      "RangeIndex: 259716 entries, 0 to 259715\n",
      "Data columns (total 13 columns):\n",
      " #   Column              Non-Null Count   Dtype  \n",
      "---  ------              --------------   -----  \n",
      " 0   ride_id             259716 non-null  object \n",
      " 1   rideable_type       259716 non-null  object \n",
      " 2   started_at          259716 non-null  object \n",
      " 3   ended_at            259716 non-null  object \n",
      " 4   start_station_name  235392 non-null  object \n",
      " 5   start_station_id    235282 non-null  float64\n",
      " 6   end_station_name    232967 non-null  object \n",
      " 7   end_station_id      232890 non-null  float64\n",
      " 8   start_lat           259716 non-null  float64\n",
      " 9   start_lng           259716 non-null  float64\n",
      " 10  end_lat             259432 non-null  float64\n",
      " 11  end_lng             259432 non-null  float64\n",
      " 12  member_casual       259716 non-null  object \n",
      "dtypes: float64(6), object(7)\n",
      "memory usage: 25.8+ MB\n",
      "<class 'pandas.core.frame.DataFrame'>\n",
      "RangeIndex: 756147 entries, 0 to 756146\n",
      "Data columns (total 13 columns):\n",
      " #   Column              Non-Null Count   Dtype  \n",
      "---  ------              --------------   -----  \n",
      " 0   ride_id             756147 non-null  object \n",
      " 1   rideable_type       756147 non-null  object \n",
      " 2   started_at          756147 non-null  object \n",
      " 3   ended_at            756147 non-null  object \n",
      " 4   start_station_name  663034 non-null  object \n",
      " 5   start_station_id    663036 non-null  object \n",
      " 6   end_station_name    656886 non-null  object \n",
      " 7   end_station_id      656886 non-null  object \n",
      " 8   start_lat           756147 non-null  float64\n",
      " 9   start_lng           756147 non-null  float64\n",
      " 10  end_lat             755552 non-null  float64\n",
      " 11  end_lng             755552 non-null  float64\n",
      " 12  member_casual       756147 non-null  object \n",
      "dtypes: float64(4), object(9)\n",
      "memory usage: 75.0+ MB\n"
     ]
    },
    {
     "data": {
      "text/plain": [
       "[(259716, 13),\n",
       " Index(['ride_id', 'rideable_type', 'started_at', 'ended_at',\n",
       "        'start_station_name', 'start_station_id', 'end_station_name',\n",
       "        'end_station_id', 'start_lat', 'start_lng', 'end_lat', 'end_lng',\n",
       "        'member_casual'],\n",
       "       dtype='object'),\n",
       " None,\n",
       " (756147, 13),\n",
       " Index(['ride_id', 'rideable_type', 'started_at', 'ended_at',\n",
       "        'start_station_name', 'start_station_id', 'end_station_name',\n",
       "        'end_station_id', 'start_lat', 'start_lng', 'end_lat', 'end_lng',\n",
       "        'member_casual'],\n",
       "       dtype='object'),\n",
       " None]"
      ]
     },
     "execution_count": 3,
     "metadata": {},
     "output_type": "execute_result"
    }
   ],
   "source": [
    "# check the file structure\n",
    "filesShape = [file1.shape, file1.columns, file1.info(), file2.shape, file2.columns, file2.info()]\n",
    "filesShape"
   ]
  },
  {
   "cell_type": "markdown",
   "metadata": {},
   "source": [
    "### Output:\n",
    "- the number of columns matches\n",
    "- number of rows is ok\n",
    "- the need to standardize types "
   ]
  },
  {
   "cell_type": "markdown",
   "metadata": {},
   "source": [
    "### 3. Union files into one data frame"
   ]
  },
  {
   "cell_type": "code",
   "execution_count": 4,
   "metadata": {},
   "outputs": [],
   "source": [
    "# loop via all files in given folder\n",
    "os.chdir(\"E:\\\\DataAnalysis\\\\001 Cyclistic bike-share - R markdown\\\\Data\\\\Last24MonthsCSV\")\n",
    "extension = 'csv'\n",
    "all_filenames = [i for i in glob.glob('*.{}'.format(extension))]\n",
    "all_filenames\n",
    "\n",
    "# combine all files in the list\n",
    "combined_csv = pd.concat([pd.read_csv(f) for f in all_filenames ])\n",
    "\n",
    "# export to csv\n",
    "combined_csv.to_csv( \"combined_csv.csv\", index=False, encoding='utf-8-sig')"
   ]
  },
  {
   "cell_type": "markdown",
   "metadata": {},
   "source": [
    "### 4. Upload the dataset"
   ]
  },
  {
   "cell_type": "code",
   "execution_count": 5,
   "metadata": {},
   "outputs": [],
   "source": [
    "# read the file and set up types\n",
    "datasetPath = \"E:\\\\DataAnalysis\\\\001 Cyclistic bike-share - R markdown\\\\Data\\\\Last24MonthsCSV\\\\combined_csv.csv\"\n",
    "dataset = pd.read_csv(datasetPath, dtype = {'ride_id': str, 'rideable_type': str, 'started_at': str, 'ended_at': str,\n",
    "                                                   'start_station_name': str, 'start_station_id': str, \n",
    "                                                   'end_station_name': str, 'end_station_id': str, \n",
    "                                                   'start_lat': np.float64, 'start_lng': np.float64, 'end_lat': np.float64, \n",
    "                                                   'end_lng': np.float64, 'member_casual': str})"
   ]
  },
  {
   "cell_type": "code",
   "execution_count": 6,
   "metadata": {},
   "outputs": [],
   "source": [
    "# create the copy \n",
    "df = dataset.copy()"
   ]
  },
  {
   "cell_type": "code",
   "execution_count": 7,
   "metadata": {
    "scrolled": true
   },
   "outputs": [
    {
     "name": "stdout",
     "output_type": "stream",
     "text": [
      "<class 'pandas.core.frame.DataFrame'>\n",
      "RangeIndex: 5378834 entries, 0 to 5378833\n",
      "Data columns (total 13 columns):\n",
      " #   Column              Dtype  \n",
      "---  ------              -----  \n",
      " 0   ride_id             object \n",
      " 1   rideable_type       object \n",
      " 2   started_at          object \n",
      " 3   ended_at            object \n",
      " 4   start_station_name  object \n",
      " 5   start_station_id    object \n",
      " 6   end_station_name    object \n",
      " 7   end_station_id      object \n",
      " 8   start_lat           float64\n",
      " 9   start_lng           float64\n",
      " 10  end_lat             float64\n",
      " 11  end_lng             float64\n",
      " 12  member_casual       object \n",
      "dtypes: float64(4), object(9)\n",
      "memory usage: 533.5+ MB\n"
     ]
    }
   ],
   "source": [
    "df.info()"
   ]
  },
  {
   "cell_type": "markdown",
   "metadata": {},
   "source": [
    "### 5. Change type to date for \"started_at\"; \"ended_at\""
   ]
  },
  {
   "cell_type": "code",
   "execution_count": 8,
   "metadata": {},
   "outputs": [
    {
     "name": "stdout",
     "output_type": "stream",
     "text": [
      "<class 'pandas.core.frame.DataFrame'>\n",
      "RangeIndex: 5378834 entries, 0 to 5378833\n",
      "Data columns (total 2 columns):\n",
      " #   Column      Dtype         \n",
      "---  ------      -----         \n",
      " 0   started_at  datetime64[ns]\n",
      " 1   ended_at    datetime64[ns]\n",
      "dtypes: datetime64[ns](2)\n",
      "memory usage: 82.1 MB\n"
     ]
    }
   ],
   "source": [
    "# change type to datetime\n",
    "df['started_at'] = pd.to_datetime(df['started_at'])\n",
    "df['ended_at'] = pd.to_datetime(df['ended_at'])\n",
    "\n",
    "# check the changes\n",
    "df[['started_at', 'ended_at']].info()"
   ]
  },
  {
   "cell_type": "code",
   "execution_count": 9,
   "metadata": {},
   "outputs": [
    {
     "data": {
      "text/html": [
       "<div>\n",
       "<style scoped>\n",
       "    .dataframe tbody tr th:only-of-type {\n",
       "        vertical-align: middle;\n",
       "    }\n",
       "\n",
       "    .dataframe tbody tr th {\n",
       "        vertical-align: top;\n",
       "    }\n",
       "\n",
       "    .dataframe thead th {\n",
       "        text-align: right;\n",
       "    }\n",
       "</style>\n",
       "<table border=\"1\" class=\"dataframe\">\n",
       "  <thead>\n",
       "    <tr style=\"text-align: right;\">\n",
       "      <th></th>\n",
       "      <th>started_at</th>\n",
       "      <th>ended_at</th>\n",
       "    </tr>\n",
       "  </thead>\n",
       "  <tbody>\n",
       "    <tr>\n",
       "      <th>count</th>\n",
       "      <td>5378834</td>\n",
       "      <td>5378834</td>\n",
       "    </tr>\n",
       "    <tr>\n",
       "      <th>unique</th>\n",
       "      <td>4487412</td>\n",
       "      <td>4479067</td>\n",
       "    </tr>\n",
       "    <tr>\n",
       "      <th>top</th>\n",
       "      <td>2020-11-07 14:24:58</td>\n",
       "      <td>2021-09-16 08:39:10</td>\n",
       "    </tr>\n",
       "    <tr>\n",
       "      <th>freq</th>\n",
       "      <td>9</td>\n",
       "      <td>17</td>\n",
       "    </tr>\n",
       "    <tr>\n",
       "      <th>first</th>\n",
       "      <td>2020-11-01 00:00:08</td>\n",
       "      <td>2020-11-01 00:02:20</td>\n",
       "    </tr>\n",
       "    <tr>\n",
       "      <th>last</th>\n",
       "      <td>2021-10-31 23:59:49</td>\n",
       "      <td>2021-11-03 21:45:48</td>\n",
       "    </tr>\n",
       "  </tbody>\n",
       "</table>\n",
       "</div>"
      ],
      "text/plain": [
       "                 started_at             ended_at\n",
       "count               5378834              5378834\n",
       "unique              4487412              4479067\n",
       "top     2020-11-07 14:24:58  2021-09-16 08:39:10\n",
       "freq                      9                   17\n",
       "first   2020-11-01 00:00:08  2020-11-01 00:02:20\n",
       "last    2021-10-31 23:59:49  2021-11-03 21:45:48"
      ]
     },
     "execution_count": 9,
     "metadata": {},
     "output_type": "execute_result"
    }
   ],
   "source": [
    "df[['started_at', 'ended_at']].describe()"
   ]
  },
  {
   "cell_type": "markdown",
   "metadata": {},
   "source": [
    "### 6. Column to add - 'ride_length'"
   ]
  },
  {
   "cell_type": "code",
   "execution_count": 10,
   "metadata": {},
   "outputs": [],
   "source": [
    "# ride_length: calculate the length of each ride by subtracting the column 'started_at' from 'ended_at'\n",
    "df['ride_length'] = (df['ended_at'] - df['started_at']).dt.total_seconds() / 60.0"
   ]
  },
  {
   "cell_type": "code",
   "execution_count": 11,
   "metadata": {},
   "outputs": [
    {
     "data": {
      "text/html": [
       "<div>\n",
       "<style scoped>\n",
       "    .dataframe tbody tr th:only-of-type {\n",
       "        vertical-align: middle;\n",
       "    }\n",
       "\n",
       "    .dataframe tbody tr th {\n",
       "        vertical-align: top;\n",
       "    }\n",
       "\n",
       "    .dataframe thead th {\n",
       "        text-align: right;\n",
       "    }\n",
       "</style>\n",
       "<table border=\"1\" class=\"dataframe\">\n",
       "  <thead>\n",
       "    <tr style=\"text-align: right;\">\n",
       "      <th></th>\n",
       "      <th>0</th>\n",
       "      <th>1</th>\n",
       "    </tr>\n",
       "  </thead>\n",
       "  <tbody>\n",
       "    <tr>\n",
       "      <th>0</th>\n",
       "      <td>min</td>\n",
       "      <td>-29049.00</td>\n",
       "    </tr>\n",
       "    <tr>\n",
       "      <th>1</th>\n",
       "      <td>max</td>\n",
       "      <td>55944.15</td>\n",
       "    </tr>\n",
       "    <tr>\n",
       "      <th>2</th>\n",
       "      <td>count_less_0</td>\n",
       "      <td>1393.00</td>\n",
       "    </tr>\n",
       "    <tr>\n",
       "      <th>3</th>\n",
       "      <td>count_more_1000</td>\n",
       "      <td>5392.00</td>\n",
       "    </tr>\n",
       "    <tr>\n",
       "      <th>4</th>\n",
       "      <td>count_Nan_ended_at</td>\n",
       "      <td>0.00</td>\n",
       "    </tr>\n",
       "    <tr>\n",
       "      <th>5</th>\n",
       "      <td>count_Nan_started_at</td>\n",
       "      <td>0.00</td>\n",
       "    </tr>\n",
       "    <tr>\n",
       "      <th>6</th>\n",
       "      <td>total_rows</td>\n",
       "      <td>5378834.00</td>\n",
       "    </tr>\n",
       "  </tbody>\n",
       "</table>\n",
       "</div>"
      ],
      "text/plain": [
       "                      0           1\n",
       "0                   min   -29049.00\n",
       "1                   max    55944.15\n",
       "2          count_less_0     1393.00\n",
       "3       count_more_1000     5392.00\n",
       "4    count_Nan_ended_at        0.00\n",
       "5  count_Nan_started_at        0.00\n",
       "6            total_rows  5378834.00"
      ]
     },
     "execution_count": 11,
     "metadata": {},
     "output_type": "execute_result"
    }
   ],
   "source": [
    "# show min, max, number of rows where 'ride_length' < 0 (anomalies), rows where 'ride_length' > 1000 (outliers)\n",
    "stats = {\n",
    "        'min': int(df['ride_length'].min()),\n",
    "        'max': df['ride_length'].max(),\n",
    "        'count_less_0': df['ride_length'].loc[df['ride_length'] < 0 ].count(),\n",
    "        'count_more_1000': df['ride_length'].loc[df['ride_length'] > 1000 ].count(),\n",
    "        'count_Nan_ended_at': df['ended_at'].isna().sum(),\n",
    "        'count_Nan_started_at': df['started_at'].isna().sum(),\n",
    "        'total_rows': df.shape[0]}\n",
    "dStats = pd.DataFrame(list(stats.items()))\n",
    "dStats"
   ]
  },
  {
   "cell_type": "code",
   "execution_count": 12,
   "metadata": {},
   "outputs": [
    {
     "data": {
      "image/png": "[encoded data removed]",
      "text/plain": [
       "<Figure size 1440x360 with 1 Axes>"
      ]
     },
     "metadata": {
      "needs_background": "light"
     },
     "output_type": "display_data"
    }
   ],
   "source": [
    "# create list of int from 10 to 90 step 10\n",
    "start = -10\n",
    "stop = 100\n",
    "step = 10\n",
    "bins_list = list(range(start, stop, step))\n",
    "\n",
    "# create histogram\n",
    "plt.figure(figsize=(20, 5))\n",
    "plt.hist(df['ride_length'], bins=bins_list);"
   ]
  },
  {
   "cell_type": "markdown",
   "metadata": {},
   "source": [
    "### Output:\n",
    "- no Nan values for Start_at and End_at date\n",
    "- number of items where ride_lenght is < 0 minutes. Anomalies --> data to be removed\n",
    "- number of observations where ride_lenght is > 1000 minutes. Outliers --> data to be removed "
   ]
  },
  {
   "cell_type": "markdown",
   "metadata": {},
   "source": [
    "### 7. Column to add - 'day_of_week'"
   ]
  },
  {
   "cell_type": "code",
   "execution_count": 13,
   "metadata": {},
   "outputs": [],
   "source": [
    "# create new column with day name\n",
    "df['day_of_week'] = df['started_at'].dt.day_name()\n",
    "\n",
    "# set up the 'sorter'. Each day will have number from 1 to 7\n",
    "sorter = ['Monday', 'Tuesday', 'Wednesday', 'Thursday', 'Friday', 'Saturday', 'Sunday']\n",
    "sorterIndex = dict(zip(sorter,range(1,len(sorter)+1)))\n",
    "\n",
    "# group items by 'day_of_week' \n",
    "dfGrouped = pd.DataFrame(df.groupby(['day_of_week']).count()['ride_id'])\n",
    "\n",
    "# reset index\n",
    "dfGrouped = dfGrouped.reset_index()\n",
    "\n",
    "# create column representing numbers for each weekday\n",
    "dfGrouped['day_of_week_m'] = dfGrouped['day_of_week'].map(sorterIndex)\n",
    "\n",
    "# rewrite day_of_week to include numbers at the begging to help sorting later on\n",
    "dfGrouped['day_of_week'] = dfGrouped['day_of_week_m'].astype(str) + ' ' + dfGrouped['day_of_week']"
   ]
  },
  {
   "cell_type": "code",
   "execution_count": 14,
   "metadata": {},
   "outputs": [
    {
     "data": {
      "image/png": "[encoded data removed]",
      "text/plain": [
       "<Figure size 1080x360 with 1 Axes>"
      ]
     },
     "metadata": {
      "needs_background": "light"
     },
     "output_type": "display_data"
    }
   ],
   "source": [
    "# plot the results\n",
    "plt.figure(figsize=(15,5))\n",
    "dfGrouped.groupby(['day_of_week']).sum()['ride_id'].plot(linestyle=':', marker='o', color='steelblue')\n",
    "plt.title('Bike usage per Weekday')\n",
    "plt.xlabel(\"\")\n",
    "plt.show()"
   ]
  },
  {
   "cell_type": "markdown",
   "metadata": {},
   "source": [
    "### Output:\n",
    "- bikes are rented mainly on weekends\n",
    "- for analysis, we have to divide it into casual/member clients"
   ]
  },
  {
   "cell_type": "markdown",
   "metadata": {},
   "source": [
    "### 8. Column to add - 'day', 'month', 'year'"
   ]
  },
  {
   "cell_type": "code",
   "execution_count": 15,
   "metadata": {},
   "outputs": [],
   "source": [
    "df['year'] = df['started_at'].dt.year\n",
    "df['month'] = df['started_at'].dt.month\n",
    "df['day'] = df['started_at'].dt.day"
   ]
  },
  {
   "cell_type": "code",
   "execution_count": 16,
   "metadata": {},
   "outputs": [
    {
     "name": "stdout",
     "output_type": "stream",
     "text": [
      "<class 'pandas.core.frame.DataFrame'>\n",
      "RangeIndex: 5378834 entries, 0 to 5378833\n",
      "Data columns (total 18 columns):\n",
      " #   Column              Dtype         \n",
      "---  ------              -----         \n",
      " 0   ride_id             object        \n",
      " 1   rideable_type       object        \n",
      " 2   started_at          datetime64[ns]\n",
      " 3   ended_at            datetime64[ns]\n",
      " 4   start_station_name  object        \n",
      " 5   start_station_id    object        \n",
      " 6   end_station_name    object        \n",
      " 7   end_station_id      object        \n",
      " 8   start_lat           float64       \n",
      " 9   start_lng           float64       \n",
      " 10  end_lat             float64       \n",
      " 11  end_lng             float64       \n",
      " 12  member_casual       object        \n",
      " 13  ride_length         float64       \n",
      " 14  day_of_week         object        \n",
      " 15  year                int64         \n",
      " 16  month               int64         \n",
      " 17  day                 int64         \n",
      "dtypes: datetime64[ns](2), float64(5), int64(3), object(8)\n",
      "memory usage: 738.7+ MB\n"
     ]
    }
   ],
   "source": [
    "df.info()"
   ]
  },
  {
   "cell_type": "markdown",
   "metadata": {},
   "source": [
    "## Analyze"
   ]
  },
  {
   "cell_type": "code",
   "execution_count": 17,
   "metadata": {},
   "outputs": [],
   "source": [
    "# narrow the dataset (remove negative ride_length, outliers and station == HQ QR)\n",
    "df_final = df.loc[(df['ride_length'] >= 0) & \n",
    "                  (df['ride_length'] < 1000) & \n",
    "                  (df['start_station_name'] != 'HQ QR')]"
   ]
  },
  {
   "cell_type": "code",
   "execution_count": 18,
   "metadata": {},
   "outputs": [
    {
     "data": {
      "text/html": [
       "<div>\n",
       "<style scoped>\n",
       "    .dataframe tbody tr th:only-of-type {\n",
       "        vertical-align: middle;\n",
       "    }\n",
       "\n",
       "    .dataframe tbody tr th {\n",
       "        vertical-align: top;\n",
       "    }\n",
       "\n",
       "    .dataframe thead tr th {\n",
       "        text-align: left;\n",
       "    }\n",
       "\n",
       "    .dataframe thead tr:last-of-type th {\n",
       "        text-align: right;\n",
       "    }\n",
       "</style>\n",
       "<table border=\"1\" class=\"dataframe\">\n",
       "  <thead>\n",
       "    <tr>\n",
       "      <th></th>\n",
       "      <th colspan=\"6\" halign=\"left\">ride_length</th>\n",
       "    </tr>\n",
       "    <tr>\n",
       "      <th></th>\n",
       "      <th>min</th>\n",
       "      <th>max</th>\n",
       "      <th>mean</th>\n",
       "      <th>median</th>\n",
       "      <th>count</th>\n",
       "      <th>sum</th>\n",
       "    </tr>\n",
       "    <tr>\n",
       "      <th>member_casual</th>\n",
       "      <th></th>\n",
       "      <th></th>\n",
       "      <th></th>\n",
       "      <th></th>\n",
       "      <th></th>\n",
       "      <th></th>\n",
       "    </tr>\n",
       "  </thead>\n",
       "  <tbody>\n",
       "    <tr>\n",
       "      <th>casual</th>\n",
       "      <td>0.00</td>\n",
       "      <td>999.93</td>\n",
       "      <td>26.81</td>\n",
       "      <td>16.33</td>\n",
       "      <td>2465490</td>\n",
       "      <td>66,098,790.63</td>\n",
       "    </tr>\n",
       "    <tr>\n",
       "      <th>member</th>\n",
       "      <td>0.00</td>\n",
       "      <td>998.78</td>\n",
       "      <td>13.65</td>\n",
       "      <td>9.90</td>\n",
       "      <td>2906559</td>\n",
       "      <td>39,665,009.88</td>\n",
       "    </tr>\n",
       "  </tbody>\n",
       "</table>\n",
       "</div>"
      ],
      "text/plain": [
       "              ride_length                                           \n",
       "                      min    max  mean median    count           sum\n",
       "member_casual                                                       \n",
       "casual               0.00 999.93 26.81  16.33  2465490 66,098,790.63\n",
       "member               0.00 998.78 13.65   9.90  2906559 39,665,009.88"
      ]
     },
     "execution_count": 18,
     "metadata": {},
     "output_type": "execute_result"
    }
   ],
   "source": [
    "# min, max, mean and median, count and sum for casual and member users\n",
    "pd.options.display.float_format = '{:,.2f}'.format\n",
    "df_final.groupby('member_casual').agg({'ride_length': ['min', 'max', 'mean', 'median', 'count', 'sum']})"
   ]
  },
  {
   "cell_type": "code",
   "execution_count": 19,
   "metadata": {},
   "outputs": [],
   "source": [
    "# create two dataset for causal and member clients\n",
    "casual = df_final.loc[df_final['member_casual'] == 'casual']['ride_length']\n",
    "member = df_final.loc[df_final['member_casual'] == 'member']['ride_length']"
   ]
  },
  {
   "cell_type": "code",
   "execution_count": 20,
   "metadata": {},
   "outputs": [
    {
     "data": {
      "image/png": "[encoded data removed]",
      "text/plain": [
       "<Figure size 1080x504 with 2 Axes>"
      ]
     },
     "metadata": {
      "needs_background": "light"
     },
     "output_type": "display_data"
    }
   ],
   "source": [
    "# draw boxplot for casual and member clients, change scale zoom in boxplot\n",
    "fig, axs = plt.subplots(2, figsize=(15,7))\n",
    "axs[0].boxplot(casual, vert = 0, showmeans=True)\n",
    "axs[0].set_title('Casual boxplot')\n",
    "axs[0].set_xlim([0, 100])\n",
    "axs[1].boxplot(member, vert = 0, showmeans=True)\n",
    "axs[1].set_title('Member boxplot')\n",
    "axs[1].set_xlim([0, 100])\n",
    "plt.show()"
   ]
  },
  {
   "cell_type": "code",
   "execution_count": 21,
   "metadata": {},
   "outputs": [
    {
     "name": "stderr",
     "output_type": "stream",
     "text": [
      "<ipython-input-21-705163e49e1f>:2: SettingWithCopyWarning: \n",
      "A value is trying to be set on a copy of a slice from a DataFrame.\n",
      "Try using .loc[row_indexer,col_indexer] = value instead\n",
      "\n",
      "See the caveats in the documentation: https://pandas.pydata.org/pandas-docs/stable/user_guide/indexing.html#returning-a-view-versus-a-copy\n",
      "  df_final['started_at_MY'] = pd.to_datetime(df_final['started_at']).dt.strftime('%m-%y')\n"
     ]
    }
   ],
   "source": [
    "# add column with month and year only as a datatime (needed for grouping)\n",
    "df_final['started_at_MY'] = pd.to_datetime(df_final['started_at']).dt.strftime('%m-%y')"
   ]
  },
  {
   "cell_type": "code",
   "execution_count": 22,
   "metadata": {},
   "outputs": [],
   "source": [
    "# group data by member_casual and started_at_MY with the count and sum of ride_lenght\n",
    "# this is needed to plot the graph\n",
    "dfGrouped_date = df_final.groupby(['member_casual', 'started_at_MY'])['ride_length'].sum().reset_index()\n",
    "dfGrouped_date = dfGrouped_date.rename({'ride_length': 'ride_length_sum'}, axis = 1)\n",
    "dfGrouped_date['ride_length_count'] = df_final.groupby(['member_casual', 'started_at_MY'])['ride_length'].count().reset_index()['ride_length']\n",
    "dfGrouped_date_x = dfGrouped_date['started_at_MY'].unique()"
   ]
  },
  {
   "cell_type": "code",
   "execution_count": 23,
   "metadata": {},
   "outputs": [],
   "source": [
    "# group data by member_casual and day_of_week with the count and sum of ride_lenght\n",
    "# this is needed to plot the graph\n",
    "dfGrouped_weekday = df_final.groupby(['member_casual', 'day_of_week'])['ride_length'].sum().reset_index()\n",
    "dfGrouped_weekday = dfGrouped_weekday.rename({'ride_length': 'ride_length_sum'}, axis = 1)\n",
    "dfGrouped_weekday['ride_length_count'] = df_final.groupby(['member_casual', 'day_of_week'])['ride_length'].count().reset_index()['ride_length']\n",
    "dfGrouped_weekday['day_of_week'] = pd.Categorical(dfGrouped_weekday['day_of_week'],\n",
    "                                   categories=['Monday', 'Tuesday', 'Wednesday', 'Thursday', 'Friday', 'Saturday', 'Sunday'],\n",
    "                                   ordered=True)"
   ]
  },
  {
   "cell_type": "code",
   "execution_count": 24,
   "metadata": {
    "scrolled": false
   },
   "outputs": [
    {
     "data": {
      "image/png": "[encoded data removed]",
      "text/plain": [
       "<Figure size 1080x720 with 4 Axes>"
      ]
     },
     "metadata": {
      "needs_background": "light"
     },
     "output_type": "display_data"
    }
   ],
   "source": [
    "# show the graphs \n",
    "\n",
    "# count of rides per member split by months\n",
    "fig, ax = pyplot.subplots(2, 2, figsize=(15,10))\n",
    "sns.barplot(data = dfGrouped_date, \n",
    "                  x ='started_at_MY',\n",
    "                  y = 'ride_length_count',\n",
    "                  hue = 'member_casual',\n",
    "                  palette = 'Blues_r',\n",
    "                  ax = ax[0, 0])\n",
    "\n",
    "ax[0,0].set_xticklabels(labels = dfGrouped_date_x, rotation=45, ha='right')\n",
    "ax[0,0].set(xlabel=None)\n",
    "ax[0,0].set(ylabel=None)\n",
    "\n",
    "# time lenght per member split by months\n",
    "sns.barplot(data = dfGrouped_date, \n",
    "                  x ='started_at_MY',\n",
    "                  y = 'ride_length_sum',\n",
    "                  hue = 'member_casual',\n",
    "                  palette = 'Blues_r',\n",
    "                  ax = ax[1,0])\n",
    "\n",
    "ax[1,0].set_xticklabels(labels = dfGrouped_date_x, rotation=45, ha='right')\n",
    "ax[1,0].set(xlabel=None)\n",
    "ax[1,0].set(ylabel=None)\n",
    "\n",
    "# count of rides per member split by weekday\n",
    "sns.barplot(data = dfGrouped_weekday, \n",
    "                  x ='day_of_week',\n",
    "                  y = 'ride_length_count',\n",
    "                  hue = 'member_casual',\n",
    "                  palette = 'Blues_r',\n",
    "                  ax = ax[0, 1])\n",
    "\n",
    "ax[0,1].set(xlabel=None)\n",
    "ax[0,1].set(ylabel=None)\n",
    "\n",
    "# time lenght per member split by weekday\n",
    "sns.barplot(data = dfGrouped_weekday, \n",
    "                  x ='day_of_week',\n",
    "                  y = 'ride_length_sum',\n",
    "                  hue = 'member_casual',\n",
    "                  palette = 'Blues_r',\n",
    "                  ax = ax[1, 1])\n",
    "\n",
    "ax[1,1].set(xlabel=None)\n",
    "ax[1,1].set(ylabel=None)\n",
    "\n",
    "plt.show()"
   ]
  },
  {
   "cell_type": "markdown",
   "metadata": {},
   "source": [
    "## Summary"
   ]
  },
  {
   "cell_type": "markdown",
   "metadata": {},
   "source": [
    "- Member clients using bikes for shorter time, however, they are using them more often. \n",
    "- Casual clients using bikes for longer time (20% more than members) but less often."
   ]
  },
  {
   "cell_type": "markdown",
   "metadata": {},
   "source": [
    "## Recommendation"
   ]
  },
  {
   "cell_type": "markdown",
   "metadata": {},
   "source": [
    "- to get the stable revenue for the whole year we should start the marketing campain to move casual clients to be a members"
   ]
  }
 ],
 "metadata": {
  "kernelspec": {
   "display_name": "Python 3",
   "language": "python",
   "name": "python3"
  },
  "language_info": {
   "codemirror_mode": {
    "name": "ipython",
    "version": 3
   },
   "file_extension": ".py",
   "mimetype": "text/x-python",
   "name": "python",
   "nbconvert_exporter": "python",
   "pygments_lexer": "ipython3",
   "version": "3.8.3"
  }
 },
 "nbformat": 4,
 "nbformat_minor": 4
}
